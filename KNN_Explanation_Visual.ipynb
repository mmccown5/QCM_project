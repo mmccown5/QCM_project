{
 "cells": [
  {
   "cell_type": "markdown",
   "id": "488cf39a",
   "metadata": {},
   "source": [
    "## Visual Explanation of KNN\n",
    "For the class presentation, I use the following plots to discuss using k-nearest neighbors to estimate outcome based on a predictor variable. In this case, averages were calculated manually with k=3.\n"
   ]
  },
  {
   "cell_type": "code",
   "execution_count": 1,
   "id": "c28506cb",
   "metadata": {},
   "outputs": [],
   "source": [
    "import pandas as pd\n",
    "from matplotlib import pyplot as plt"
   ]
  },
  {
   "cell_type": "markdown",
   "id": "f3136d03",
   "metadata": {},
   "source": [
    "I load my example data. These are semi-random points I picked to give the plot non-linear data with some trend and grouping."
   ]
  },
  {
   "cell_type": "code",
   "execution_count": 2,
   "id": "912726de",
   "metadata": {},
   "outputs": [
    {
     "data": {
      "text/html": [
       "<div>\n",
       "<style scoped>\n",
       "    .dataframe tbody tr th:only-of-type {\n",
       "        vertical-align: middle;\n",
       "    }\n",
       "\n",
       "    .dataframe tbody tr th {\n",
       "        vertical-align: top;\n",
       "    }\n",
       "\n",
       "    .dataframe thead th {\n",
       "        text-align: right;\n",
       "    }\n",
       "</style>\n",
       "<table border=\"1\" class=\"dataframe\">\n",
       "  <thead>\n",
       "    <tr style=\"text-align: right;\">\n",
       "      <th></th>\n",
       "      <th>X</th>\n",
       "      <th>Y</th>\n",
       "    </tr>\n",
       "  </thead>\n",
       "  <tbody>\n",
       "    <tr>\n",
       "      <th>0</th>\n",
       "      <td>0.0</td>\n",
       "      <td>3.0</td>\n",
       "    </tr>\n",
       "    <tr>\n",
       "      <th>1</th>\n",
       "      <td>1.0</td>\n",
       "      <td>2.8</td>\n",
       "    </tr>\n",
       "    <tr>\n",
       "      <th>2</th>\n",
       "      <td>0.7</td>\n",
       "      <td>4.0</td>\n",
       "    </tr>\n",
       "    <tr>\n",
       "      <th>3</th>\n",
       "      <td>1.2</td>\n",
       "      <td>4.2</td>\n",
       "    </tr>\n",
       "    <tr>\n",
       "      <th>4</th>\n",
       "      <td>1.9</td>\n",
       "      <td>2.0</td>\n",
       "    </tr>\n",
       "  </tbody>\n",
       "</table>\n",
       "</div>"
      ],
      "text/plain": [
       "     X    Y\n",
       "0  0.0  3.0\n",
       "1  1.0  2.8\n",
       "2  0.7  4.0\n",
       "3  1.2  4.2\n",
       "4  1.9  2.0"
      ]
     },
     "execution_count": 2,
     "metadata": {},
     "output_type": "execute_result"
    }
   ],
   "source": [
    "data = pd.read_csv(\"visual.txt\",sep=\"\\t\")\n",
    "data.head()"
   ]
  },
  {
   "cell_type": "markdown",
   "id": "6e534252",
   "metadata": {},
   "source": [
    "Plot the example data with pyplot. Note that the scales are removed, as it doesn't matter for the purpose of the presentation."
   ]
  },
  {
   "cell_type": "code",
   "execution_count": 3,
   "id": "61c87beb",
   "metadata": {},
   "outputs": [
    {
     "data": {
      "image/png": "[encoded data removed]",
      "text/plain": [
       "<Figure size 432x288 with 1 Axes>"
      ]
     },
     "metadata": {},
     "output_type": "display_data"
    }
   ],
   "source": [
    "fig, ax = plt.subplots()\n",
    "\n",
    "ax.tick_params(left = False, labelleft = False, bottom=False, labelbottom=False) \n",
    "plt.scatter(data.X, data.Y)\n",
    "\n",
    "plt.ylabel(\"Outcome\")\n",
    "plt.xlabel(\"Putative Predictor\")\n",
    "\n",
    "plt.savefig(\"vis1.png\",dpi=300)\n",
    "plt.show()\n"
   ]
  },
  {
   "cell_type": "markdown",
   "id": "e564ee35",
   "metadata": {},
   "source": [
    "Now add red points to represent new values of the putative predictor for which the outcome is unknown. The blue points will be used as training dataset while the red are treated as test points. First, I plot the test points at zero."
   ]
  },
  {
   "cell_type": "code",
   "execution_count": 4,
   "id": "13d80b69",
   "metadata": {},
   "outputs": [
    {
     "data": {
      "image/png": "[encoded data removed]",
      "text/plain": [
       "<Figure size 432x288 with 1 Axes>"
      ]
     },
     "metadata": {},
     "output_type": "display_data"
    }
   ],
   "source": [
    "fig, ax = plt.subplots()\n",
    "\n",
    "ax.tick_params(left = False, labelleft = False, bottom=False, labelbottom=False) \n",
    "plt.scatter(data.X, data.Y)\n",
    "plt.scatter([2,5.5,9.5], [0,0,0],color='red')\n",
    "\n",
    "plt.ylabel(\"Outcome\")\n",
    "plt.xlabel(\"Putative Predictor\")\n",
    "\n",
    "plt.savefig(\"vis2.png\",dpi=300)\n",
    "plt.show()\n"
   ]
  },
  {
   "cell_type": "markdown",
   "id": "c9830203",
   "metadata": {},
   "source": [
    "Next, move the test points to the y value predicted by knn with k of 3. "
   ]
  },
  {
   "cell_type": "code",
   "execution_count": 5,
   "id": "7ae0eda2",
   "metadata": {},
   "outputs": [
    {
     "data": {
      "image/png": "[encoded data removed]",
      "text/plain": [
       "<Figure size 432x288 with 1 Axes>"
      ]
     },
     "metadata": {},
     "output_type": "display_data"
    }
   ],
   "source": [
    "fig, ax = plt.subplots()\n",
    "\n",
    "ax.tick_params(left = False, labelleft = False, bottom=False, labelbottom=False) \n",
    "plt.scatter(data.X, data.Y)\n",
    "\n",
    "plt.scatter([2,5.5,9.5], [3.8,8.5,4.7],color='red')\n",
    "\n",
    "plt.ylabel(\"Outcome\")\n",
    "plt.xlabel(\"Putative Predictor\")\n",
    "\n",
    "plt.savefig(\"vis3.png\",dpi=300)\n",
    "plt.show()\n"
   ]
  },
  {
   "cell_type": "markdown",
   "id": "953e5a72",
   "metadata": {},
   "source": [
    "The figures are saved as vis1, vis 2, and vis3 and are added to my powerpoint."
   ]
  }
 ],
 "metadata": {
  "kernelspec": {
   "display_name": "Python 3",
   "language": "python",
   "name": "python3"
  },
  "language_info": {
   "codemirror_mode": {
    "name": "ipython",
    "version": 3
   },
   "file_extension": ".py",
   "mimetype": "text/x-python",
   "name": "python",
   "nbconvert_exporter": "python",
   "pygments_lexer": "ipython3",
   "version": "3.8.8"
  }
 },
 "nbformat": 4,
 "nbformat_minor": 5
}
