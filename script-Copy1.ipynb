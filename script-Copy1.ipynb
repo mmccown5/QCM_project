{
 "cells": [
  {
   "cell_type": "code",
   "execution_count": 8,
   "id": "9604b915",
   "metadata": {},
   "outputs": [],
   "source": [
    "# Dependencies:\n",
    "# pip: scikit-learn, anndata, scanpy\n",
    "#\n",
    "# Modified from the Python starter kit for the NeurIPS 2021 Single-Cell Competition.\n",
    "# Parts with `TODO` are supposed to be changed by you.\n",
    "#\n",
    "# More documentation:\n",
    "#\n",
    "# https://viash.io/docs/creating_components/python/"
   ]
  },
  {
   "cell_type": "code",
   "execution_count": 2,
   "id": "0abb5b19",
   "metadata": {},
   "outputs": [],
   "source": [
    "import logging\n",
    "import anndata as ad\n",
    "import sys\n",
    "\n",
    "from scipy.sparse import csc_matrix\n",
    "\n",
    "from sklearn.decomposition import TruncatedSVD\n",
    "from sklearn.linear_model import LinearRegression\n",
    "import numpy as np\n",
    "\n",
    "logging.basicConfig(level=logging.INFO)"
   ]
  },
  {
   "cell_type": "code",
   "execution_count": 3,
   "id": "8b4766e0",
   "metadata": {},
   "outputs": [],
   "source": [
    "## VIASH START\n",
    "# Anything within this block will be removed by `viash` and will be\n",
    "# replaced with the parameters as specified in your config.vsh.yaml.\n",
    "meta = { 'resources_dir': '.' }\n",
    "\n",
    "par = {\n",
    "    'input_train_mod1': 'benchmark_data/cite/cite_adt_processed_training.h5ad',\n",
    "    'input_train_mod2': 'benchmark_data/cite/cite_gex_processed_training.h5ad',\n",
    "    'input_test_mod1': 'benchmark_data/cite/cite_adt_processed_training.h5ad',\n",
    "    'distance_method': 'minkowski',\n",
    "    'output': 'output.h5ad',\n",
    "    'n_pcs': 50,\n",
    "}\n",
    "## VIASH END\n",
    "test_mod2_file = 'benchmark_data/cite/cite_gex_processed_training.h5ad'\n"
   ]
  },
  {
   "cell_type": "code",
   "execution_count": 4,
   "id": "00b228c8",
   "metadata": {},
   "outputs": [],
   "source": [
    "## VIASH START\n",
    "# Anything within this block will be removed by `viash` and will be\n",
    "# replaced with the parameters as specified in your config.vsh.yaml.\n",
    "meta = { 'resources_dir': '.' }\n",
    "\n",
    "par = { \n",
    "    'input_train_mod1': 'benchmark_data/multiome/multiome_atac_processed_training.h5ad',\n",
    "    'input_train_mod2': 'benchmark_data/multiome/multiome_gex_processed_training.h5ad',\n",
    "    'input_test_mod1': 'benchmark_data/multiome/multiome_atac_processed_training.h5ad',\n",
    "    'distance_method': 'minkowski',\n",
    "    'output': 'output.h5ad',\n",
    "    'n_pcs': 50,\n",
    "}\n",
    "## VIASH END\n",
    "test_mod2_file = 'benchmark_data/multiome/multiome_gex_processed_training.h5ad'\n"
   ]
  },
  {
   "cell_type": "code",
   "execution_count": 5,
   "id": "f482fdff",
   "metadata": {},
   "outputs": [],
   "source": [
    "method_id = 'basic_beans'\n",
    "sys.path.append(meta['resources_dir'])"
   ]
  },
  {
   "cell_type": "code",
   "execution_count": 6,
   "id": "ab647133",
   "metadata": {},
   "outputs": [
    {
     "name": "stderr",
     "output_type": "stream",
     "text": [
      "INFO:root:Reading `h5ad` files...\n"
     ]
    }
   ],
   "source": [
    "logging.info('Reading `h5ad` files...')\n",
    "input_train_mod1 = ad.read_h5ad(par['input_train_mod1'])\n",
    "input_train_mod2 = ad.read_h5ad(par['input_train_mod2'])\n",
    "\n"
   ]
  },
  {
   "cell_type": "code",
   "execution_count": 14,
   "id": "3f4ec711",
   "metadata": {},
   "outputs": [],
   "source": [
    "\n",
    "embedder_mod1 = TruncatedSVD(n_components=50)\n",
    "mod1_pca = embedder_mod1.fit_transform(input_train_mod1.X)"
   ]
  },
  {
   "cell_type": "code",
   "execution_count": 15,
   "id": "7596d46d",
   "metadata": {},
   "outputs": [],
   "source": [
    "from statistics import sqrt\n",
    "from math import ceil\n",
    "N = mod1_pca.shape[0]\n",
    "k = ceil(sqrt(N))"
   ]
  },
  {
   "cell_type": "code",
   "execution_count": 16,
   "id": "04c0415a",
   "metadata": {},
   "outputs": [
    {
     "data": {
      "text/plain": [
       "150"
      ]
     },
     "execution_count": 16,
     "metadata": {},
     "output_type": "execute_result"
    }
   ],
   "source": [
    "k"
   ]
  },
  {
   "cell_type": "code",
   "execution_count": null,
   "id": "21f7b8e6",
   "metadata": {},
   "outputs": [],
   "source": [
    "## make random subsets to test on"
   ]
  },
  {
   "cell_type": "code",
   "execution_count": null,
   "id": "3e10a16d",
   "metadata": {},
   "outputs": [],
   "source": [
    "\n",
    "# TODO: implement own method\n",
    "from beans import method\n",
    "adata = method(input_train_mod1, input_train_mod2, input_train_mod1)\n",
    "\n",
    "adata.uns[\"method_id\"] = method_id\n",
    "\n"
   ]
  },
  {
   "cell_type": "code",
   "execution_count": null,
   "id": "8814d5ab",
   "metadata": {},
   "outputs": [],
   "source": [
    "\n",
    "from sklearn.metrics import mean_squared_error\n",
    "def calculate_rmse(true_test_mod2, pred_test_mod2):\n",
    "    return  mean_squared_error(true_test_mod2.X.toarray(), pred_test_mod2.X.toarray(), squared=False)"
   ]
  },
  {
   "cell_type": "code",
   "execution_count": null,
   "id": "1e4f6eba",
   "metadata": {},
   "outputs": [],
   "source": [
    "\n",
    "calculate_rmse(input_train_mod2, adata)"
   ]
  },
  {
   "cell_type": "code",
   "execution_count": null,
   "id": "19b849ae",
   "metadata": {},
   "outputs": [],
   "source": []
  },
  {
   "cell_type": "code",
   "execution_count": 10,
   "id": "1c1b0974",
   "metadata": {},
   "outputs": [],
   "source": [
    "from method import method"
   ]
  },
  {
   "cell_type": "code",
   "execution_count": null,
   "id": "3f3c404c",
   "metadata": {},
   "outputs": [],
   "source": [
    "#forward\n",
    "tests_f={}\n",
    "for i in range (2, 200, 50):\n",
    "    pred_data = method(input_train_mod1, input_train_mod2, input_train_mod1, k=i)\n",
    "    tests_f[i]=calculate_rmse(true_test_mod2, pred_data)\n",
    "tests_f"
   ]
  },
  {
   "cell_type": "code",
   "execution_count": null,
   "id": "4d3aab22",
   "metadata": {},
   "outputs": [],
   "source": [
    "#go backwards\n",
    "tests={}\n",
    "for i in range (2, 200, 50):\n",
    "    pred_data = method(input_train_mod2, input_train_mod1, input_train_mod2, k=i)\n",
    "    tests[i]=calculate_rmse(input_train_mod1, pred_data)\n",
    "tests"
   ]
  },
  {
   "cell_type": "code",
   "execution_count": null,
   "id": "628df415",
   "metadata": {},
   "outputs": [],
   "source": []
  },
  {
   "cell_type": "code",
   "execution_count": null,
   "id": "80279a4d",
   "metadata": {},
   "outputs": [],
   "source": []
  }
 ],
 "metadata": {
  "kernelspec": {
   "display_name": "Python 3",
   "language": "python",
   "name": "python3"
  },
  "language_info": {
   "codemirror_mode": {
    "name": "ipython",
    "version": 3
   },
   "file_extension": ".py",
   "mimetype": "text/x-python",
   "name": "python",
   "nbconvert_exporter": "python",
   "pygments_lexer": "ipython3",
   "version": "3.8.8"
  }
 },
 "nbformat": 4,
 "nbformat_minor": 5
}
