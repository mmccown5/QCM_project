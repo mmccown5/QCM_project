{
 "cells": [
  {
   "cell_type": "code",
   "execution_count": 1,
   "id": "9604b915",
   "metadata": {},
   "outputs": [],
   "source": [
    "# Dependencies:\n",
    "# pip: scikit-learn, anndata, scanpy\n",
    "#\n",
    "# Modified from the Python starter kit for the NeurIPS 2021 Single-Cell Competition.\n",
    "# Parts with `TODO` are supposed to be changed by you.\n",
    "#\n",
    "# More documentation:\n",
    "#\n",
    "# https://viash.io/docs/creating_components/python/"
   ]
  },
  {
   "cell_type": "code",
   "execution_count": 2,
   "id": "0abb5b19",
   "metadata": {},
   "outputs": [],
   "source": [
    "import logging\n",
    "import anndata as ad\n",
    "import sys\n",
    "\n",
    "from scipy.sparse import csc_matrix\n",
    "\n",
    "from sklearn.decomposition import TruncatedSVD\n",
    "from sklearn.linear_model import LinearRegression\n",
    "import numpy as np\n",
    "\n",
    "logging.basicConfig(level=logging.INFO)"
   ]
  },
  {
   "cell_type": "code",
   "execution_count": 3,
   "id": "959a086e",
   "metadata": {},
   "outputs": [],
   "source": [
    "## VIASH START\n",
    "# Anything within this block will be removed by `viash` and will be\n",
    "# replaced with the parameters as specified in your config.vsh.yaml.\n",
    "meta = { 'resources_dir': '.' }\n",
    "\n",
    "par = { \n",
    "    'input_train_mod1': 'sample_data/openproblems_bmmc_cite_starter/openproblems_bmmc_cite_starter.train_mod1.h5ad',\n",
    "    'input_train_mod2': 'sample_data/openproblems_bmmc_cite_starter/openproblems_bmmc_cite_starter.train_mod2.h5ad',\n",
    "    'input_test_mod1': 'sample_data/openproblems_bmmc_cite_starter/openproblems_bmmc_cite_starter.test_mod1.h5ad',\n",
    "    'distance_method': 'minkowski',\n",
    "    'output': 'output.h5ad',\n",
    "    'n_pcs': 50,\n",
    "}\n",
    "## VIASH END\n",
    "test_mod2_file = 'sample_data/openproblems_bmmc_cite_starter/openproblems_bmmc_cite_starter.test_mod2.h5ad '\n"
   ]
  },
  {
   "cell_type": "code",
   "execution_count": 4,
   "id": "8b4766e0",
   "metadata": {},
   "outputs": [],
   "source": [
    "## VIASH START\n",
    "# Anything within this block will be removed by `viash` and will be\n",
    "# replaced with the parameters as specified in your config.vsh.yaml.\n",
    "meta = { 'resources_dir': '.' }\n",
    "\n",
    "par = {\n",
    "    'input_train_mod1': 'sample_data/openproblems_bmmc_multiome_starter/openproblems_bmmc_multiome_starter.train_mod1.h5ad',\n",
    "    'input_train_mod2': 'sample_data/openproblems_bmmc_multiome_starter/openproblems_bmmc_multiome_starter.train_mod2.h5ad',\n",
    "    'input_test_mod1': 'sample_data/openproblems_bmmc_multiome_starter/openproblems_bmmc_multiome_starter.test_mod1.h5ad',\n",
    "    'distance_method': 'minkowski',\n",
    "    'output': 'output.h5ad',\n",
    "    'n_pcs': 50,\n",
    "}\n",
    "## VIASH END\n",
    "test_mod2_file = 'sample_data/openproblems_bmmc_multiome_starter/openproblems_bmmc_multiome_starter.test_mod2.h5ad'\n"
   ]
  },
  {
   "cell_type": "code",
   "execution_count": 5,
   "id": "f482fdff",
   "metadata": {},
   "outputs": [],
   "source": [
    "method_id = 'basic_beans'\n",
    "sys.path.append(meta['resources_dir'])"
   ]
  },
  {
   "cell_type": "code",
   "execution_count": 6,
   "id": "ab647133",
   "metadata": {},
   "outputs": [
    {
     "name": "stderr",
     "output_type": "stream",
     "text": [
      "INFO:root:Reading `h5ad` files...\n"
     ]
    }
   ],
   "source": [
    "logging.info('Reading `h5ad` files...')\n",
    "input_train_mod1 = ad.read_h5ad(par['input_train_mod1'])\n",
    "input_train_mod2 = ad.read_h5ad(par['input_train_mod2'])\n",
    "input_test_mod1 = ad.read_h5ad(par['input_test_mod1'])\n",
    "\n"
   ]
  },
  {
   "cell_type": "code",
   "execution_count": 7,
   "id": "3e10a16d",
   "metadata": {},
   "outputs": [
    {
     "name": "stderr",
     "output_type": "stream",
     "text": [
      "INFO:root:Performing dimensionality reduction on modality 1 values...\n",
      "INFO:root:Performing dimensionality reduction on modality 2 values...\n",
      "INFO:root:Running K nearest neigbors...\n"
     ]
    }
   ],
   "source": [
    "\n",
    "# TODO: implement own method\n",
    "from bean import method\n",
    "adata = method(input_train_mod1, input_train_mod2, input_test_mod1)\n",
    "\n",
    "adata.uns[\"method_id\"] = method_id\n",
    "\n"
   ]
  },
  {
   "cell_type": "code",
   "execution_count": 8,
   "id": "8067f106",
   "metadata": {},
   "outputs": [
    {
     "data": {
      "text/plain": [
       "True"
      ]
     },
     "execution_count": 8,
     "metadata": {},
     "output_type": "execute_result"
    }
   ],
   "source": [
    "\n",
    "from scipy.sparse import issparse\n",
    "issparse(adata.X)"
   ]
  },
  {
   "cell_type": "code",
   "execution_count": null,
   "id": "e98f3a01",
   "metadata": {},
   "outputs": [],
   "source": []
  },
  {
   "cell_type": "code",
   "execution_count": 9,
   "id": "073f898a",
   "metadata": {},
   "outputs": [
    {
     "name": "stderr",
     "output_type": "stream",
     "text": [
      "INFO:root:Storing annotated data...\n"
     ]
    }
   ],
   "source": [
    "\n",
    "logging.info('Storing annotated data...')\n",
    "adata.write_h5ad(par['output'], compression = \"gzip\")\n"
   ]
  },
  {
   "cell_type": "code",
   "execution_count": null,
   "id": "cbd7b759",
   "metadata": {},
   "outputs": [],
   "source": []
  },
  {
   "cell_type": "code",
   "execution_count": 10,
   "id": "8e1481f9",
   "metadata": {},
   "outputs": [],
   "source": [
    "from pygam import LinearGAM"
   ]
  },
  {
   "cell_type": "code",
   "execution_count": 11,
   "id": "3fb244ed",
   "metadata": {},
   "outputs": [
    {
     "name": "stderr",
     "output_type": "stream",
     "text": [
      "INFO:root:Performing dimensionality reduction on modality 1 values...\n",
      "INFO:root:Performing dimensionality reduction on modality 2 values...\n",
      "INFO:root:Running Linear regression...\n"
     ]
    }
   ],
   "source": [
    "from sklearn.decomposition import TruncatedSVD\n",
    "logging.info('Performing dimensionality reduction on modality 1 values...')    \n",
    "input_mod1 = ad.concat(\n",
    "    {\"train\": input_train_mod1, \"test\": input_test_mod1},\n",
    "    axis=0,\n",
    "    join=\"outer\",\n",
    "    label=\"group\",\n",
    "    fill_value=0,\n",
    "    index_unique=\"-\"\n",
    ")\n",
    "    \n",
    "embedder_mod1 = TruncatedSVD(n_components=50)\n",
    "mod1_pca = embedder_mod1.fit_transform(input_mod1.X)\n",
    "\n",
    "logging.info('Performing dimensionality reduction on modality 2 values...')\n",
    "embedder_mod2 = TruncatedSVD(n_components=50)\n",
    "mod2_pca = embedder_mod2.fit_transform(input_train_mod2.X)\n",
    "\n",
    "# split dimred back up\n",
    "X_train = mod1_pca[input_mod1.obs['group'] == 'train']\n",
    "X_test = mod1_pca[input_mod1.obs['group'] == 'test']\n",
    "y_train = mod2_pca\n",
    "    \n",
    "logging.info('Running Linear regression...')\n"
   ]
  },
  {
   "cell_type": "code",
   "execution_count": 12,
   "id": "bca5e07d",
   "metadata": {},
   "outputs": [],
   "source": [
    "from statistics import sqrt\n",
    "from math import ceil\n",
    "N = X_train.shape[0]\n",
    "k = ceil(sqrt(N))"
   ]
  },
  {
   "cell_type": "code",
   "execution_count": 13,
   "id": "6cecd071",
   "metadata": {},
   "outputs": [
    {
     "data": {
      "text/plain": [
       "KNeighborsRegressor(n_neighbors=15)"
      ]
     },
     "execution_count": 13,
     "metadata": {},
     "output_type": "execute_result"
    }
   ],
   "source": [
    "from sklearn.neighbors import KNeighborsRegressor\n",
    "neigh = KNeighborsRegressor(n_neighbors=k)\n",
    "neigh.fit(X_train, y_train)"
   ]
  },
  {
   "cell_type": "code",
   "execution_count": 14,
   "id": "f0b82308",
   "metadata": {},
   "outputs": [],
   "source": [
    "y_pred = neigh.predict(X_test)"
   ]
  },
  {
   "cell_type": "code",
   "execution_count": null,
   "id": "3ebeea80",
   "metadata": {},
   "outputs": [],
   "source": []
  },
  {
   "cell_type": "code",
   "execution_count": 15,
   "id": "d6f02542",
   "metadata": {},
   "outputs": [],
   "source": [
    "y_pred = neigh.predict(X_test)"
   ]
  },
  {
   "cell_type": "code",
   "execution_count": 16,
   "id": "cae124ff",
   "metadata": {},
   "outputs": [],
   "source": [
    "\n",
    "# Project the predictions back to the modality 2 feature space\n",
    "y_pred = y_pred @ embedder_mod2.components_\n",
    "\n",
    "# Store as sparse matrix to be efficient. Note that this might require\n",
    "# different classifiers/embedders before-hand. Not every class is able\n",
    "# to support such data structures.\n",
    "y_pred = csc_matrix(y_pred)\n",
    "\n",
    "adata2 = ad.AnnData(\n",
    "    X=y_pred,\n",
    "    obs=input_test_mod1.obs,\n",
    "    var=input_train_mod2.var,\n",
    "    uns={\n",
    "        'dataset_id': input_train_mod1.uns['dataset_id'],\n",
    "        'method_id': 'starter_kit'\n",
    "    },\n",
    ")\n"
   ]
  },
  {
   "cell_type": "code",
   "execution_count": null,
   "id": "51e8c873",
   "metadata": {},
   "outputs": [],
   "source": []
  },
  {
   "cell_type": "code",
   "execution_count": 17,
   "id": "25f2f87e",
   "metadata": {},
   "outputs": [],
   "source": [
    "true_test_mod2 = ad.read_h5ad(test_mod2_file)"
   ]
  },
  {
   "cell_type": "code",
   "execution_count": 18,
   "id": "25904b58",
   "metadata": {},
   "outputs": [],
   "source": [
    "\n",
    "from sklearn.metrics import mean_squared_error\n",
    "def calculate_rmse(true_test_mod2, pred_test_mod2):\n",
    "    return  mean_squared_error(true_test_mod2.X.toarray(), pred_test_mod2.X.toarray(), squared=False)"
   ]
  },
  {
   "cell_type": "code",
   "execution_count": 19,
   "id": "24898219",
   "metadata": {},
   "outputs": [
    {
     "data": {
      "text/plain": [
       "0.2997299"
      ]
     },
     "execution_count": 19,
     "metadata": {},
     "output_type": "execute_result"
    }
   ],
   "source": [
    "calculate_rmse(true_test_mod2, adata)"
   ]
  },
  {
   "cell_type": "code",
   "execution_count": 20,
   "id": "18bcddda",
   "metadata": {},
   "outputs": [
    {
     "data": {
      "text/plain": [
       "0.30013496"
      ]
     },
     "execution_count": 20,
     "metadata": {},
     "output_type": "execute_result"
    }
   ],
   "source": [
    "calculate_rmse(true_test_mod2, adata2)"
   ]
  },
  {
   "cell_type": "code",
   "execution_count": null,
   "id": "3b328d5c",
   "metadata": {},
   "outputs": [],
   "source": []
  },
  {
   "cell_type": "code",
   "execution_count": null,
   "id": "1818928d",
   "metadata": {},
   "outputs": [],
   "source": []
  },
  {
   "cell_type": "raw",
   "id": "0362979a",
   "metadata": {},
   "source": [
    "#forward\n",
    "tests_f={}\n",
    "for i in range (1, 50):\n",
    "    pred_data = method(input_train_mod1, input_train_mod2, input_test_mod1, k=k, d=i)\n",
    "    tests_f[i]=calculate_rmse(true_test_mod2, pred_data)\n",
    "tests_f"
   ]
  },
  {
   "cell_type": "markdown",
   "id": "f07372b0",
   "metadata": {},
   "source": [
    "#go backwards\n",
    "tests={}\n",
    "for i in range (2, 200, 10):\n",
    "    pred_data = method(input_train_mod2, input_train_mod1, true_test_mod2, k=i)\n",
    "    tests[i]=calculate_rmse(input_test_mod1, pred_data)\n",
    "tests"
   ]
  },
  {
   "cell_type": "code",
   "execution_count": null,
   "id": "3cf46255",
   "metadata": {},
   "outputs": [],
   "source": []
  },
  {
   "cell_type": "code",
   "execution_count": null,
   "id": "38ff002d",
   "metadata": {},
   "outputs": [],
   "source": []
  },
  {
   "cell_type": "code",
   "execution_count": null,
   "id": "bfa054be",
   "metadata": {},
   "outputs": [],
   "source": []
  },
  {
   "cell_type": "code",
   "execution_count": null,
   "id": "172a8d36",
   "metadata": {},
   "outputs": [],
   "source": []
  }
 ],
 "metadata": {
  "kernelspec": {
   "display_name": "Python 3",
   "language": "python",
   "name": "python3"
  },
  "language_info": {
   "codemirror_mode": {
    "name": "ipython",
    "version": 3
   },
   "file_extension": ".py",
   "mimetype": "text/x-python",
   "name": "python",
   "nbconvert_exporter": "python",
   "pygments_lexer": "ipython3",
   "version": "3.8.8"
  }
 },
 "nbformat": 4,
 "nbformat_minor": 5
}
