{
 "cells": [
  {
   "cell_type": "code",
   "execution_count": 1,
   "id": "9604b915",
   "metadata": {},
   "outputs": [],
   "source": [
    "# Dependencies:\n",
    "# pip: scikit-learn, anndata, scanpy\n",
    "#\n",
    "# Modified from the Python starter kit for the NeurIPS 2021 Single-Cell Competition.\n",
    "# Parts with `TODO` are supposed to be changed by you.\n",
    "#\n",
    "# More documentation:\n",
    "#\n",
    "# https://viash.io/docs/creating_components/python/"
   ]
  },
  {
   "cell_type": "code",
   "execution_count": 2,
   "id": "0abb5b19",
   "metadata": {},
   "outputs": [],
   "source": [
    "import logging\n",
    "import anndata as ad\n",
    "import sys\n",
    "\n",
    "from scipy.sparse import csc_matrix\n",
    "\n",
    "from sklearn.decomposition import TruncatedSVD\n",
    "from sklearn.linear_model import LinearRegression\n",
    "import numpy as np\n",
    "\n",
    "logging.basicConfig(level=logging.INFO)"
   ]
  },
  {
   "cell_type": "code",
   "execution_count": 3,
   "id": "959a086e",
   "metadata": {},
   "outputs": [],
   "source": [
    "## VIASH START\n",
    "# Anything within this block will be removed by `viash` and will be\n",
    "# replaced with the parameters as specified in your config.vsh.yaml.\n",
    "meta = { 'resources_dir': '.' }\n",
    "\n",
    "par = { \n",
    "    'input_train_mod1': 'sample_data/openproblems_bmmc_cite_starter/openproblems_bmmc_cite_starter.train_mod1.h5ad',\n",
    "    'input_train_mod2': 'sample_data/openproblems_bmmc_cite_starter/openproblems_bmmc_cite_starter.train_mod2.h5ad',\n",
    "    'input_test_mod1': 'sample_data/openproblems_bmmc_cite_starter/openproblems_bmmc_cite_starter.test_mod1.h5ad',\n",
    "    'distance_method': 'minkowski',\n",
    "    'output': 'output.h5ad',\n",
    "    'n_pcs': 50,\n",
    "}\n",
    "## VIASH END\n",
    "test_mod2_file = 'sample_data/openproblems_bmmc_cite_starter/openproblems_bmmc_cite_starter.test_mod2.h5ad '\n"
   ]
  },
  {
   "cell_type": "code",
   "execution_count": 4,
   "id": "8b4766e0",
   "metadata": {},
   "outputs": [],
   "source": [
    "## VIASH START\n",
    "# Anything within this block will be removed by `viash` and will be\n",
    "# replaced with the parameters as specified in your config.vsh.yaml.\n",
    "meta = { 'resources_dir': '.' }\n",
    "\n",
    "par = {\n",
    "    'input_train_mod1': 'sample_data/openproblems_bmmc_multiome_starter/openproblems_bmmc_multiome_starter.train_mod1.h5ad',\n",
    "    'input_train_mod2': 'sample_data/openproblems_bmmc_multiome_starter/openproblems_bmmc_multiome_starter.train_mod2.h5ad',\n",
    "    'input_test_mod1': 'sample_data/openproblems_bmmc_multiome_starter/openproblems_bmmc_multiome_starter.test_mod1.h5ad',\n",
    "    'distance_method': 'minkowski',\n",
    "    'output': 'output.h5ad',\n",
    "    'n_pcs': 50,\n",
    "}\n",
    "## VIASH END\n",
    "test_mod2_file = 'sample_data/openproblems_bmmc_multiome_starter/openproblems_bmmc_multiome_starter.test_mod2.h5ad'\n"
   ]
  },
  {
   "cell_type": "code",
   "execution_count": 5,
   "id": "f482fdff",
   "metadata": {},
   "outputs": [],
   "source": [
    "method_id = 'basic_beans'\n",
    "sys.path.append(meta['resources_dir'])"
   ]
  },
  {
   "cell_type": "code",
   "execution_count": 6,
   "id": "ab647133",
   "metadata": {},
   "outputs": [
    {
     "name": "stderr",
     "output_type": "stream",
     "text": [
      "INFO:root:Reading `h5ad` files...\n"
     ]
    }
   ],
   "source": [
    "logging.info('Reading `h5ad` files...')\n",
    "input_train_mod1 = ad.read_h5ad(par['input_train_mod1'])\n",
    "input_train_mod2 = ad.read_h5ad(par['input_train_mod2'])\n",
    "input_test_mod1 = ad.read_h5ad(par['input_test_mod1'])\n",
    "\n"
   ]
  },
  {
   "cell_type": "code",
   "execution_count": 7,
   "id": "3e10a16d",
   "metadata": {},
   "outputs": [
    {
     "name": "stderr",
     "output_type": "stream",
     "text": [
      "INFO:root:Performing dimensionality reduction on modality 1 values...\n",
      "INFO:root:Performing dimensionality reduction on modality 2 values...\n",
      "INFO:root:Running K nearest neigbors...\n"
     ]
    }
   ],
   "source": [
    "\n",
    "# TODO: implement own method\n",
    "from beans import method\n",
    "adata = method(input_train_mod1, input_train_mod2, input_test_mod1)\n",
    "\n",
    "adata.uns[\"method_id\"] = method_id\n",
    "\n"
   ]
  },
  {
   "cell_type": "code",
   "execution_count": 8,
   "id": "8067f106",
   "metadata": {},
   "outputs": [
    {
     "data": {
      "text/plain": [
       "True"
      ]
     },
     "execution_count": 8,
     "metadata": {},
     "output_type": "execute_result"
    }
   ],
   "source": [
    "\n",
    "from scipy.sparse import issparse\n",
    "issparse(adata.X)"
   ]
  },
  {
   "cell_type": "code",
   "execution_count": null,
   "id": "e98f3a01",
   "metadata": {},
   "outputs": [],
   "source": []
  },
  {
   "cell_type": "code",
   "execution_count": 9,
   "id": "073f898a",
   "metadata": {},
   "outputs": [
    {
     "name": "stderr",
     "output_type": "stream",
     "text": [
      "INFO:root:Storing annotated data...\n"
     ]
    }
   ],
   "source": [
    "\n",
    "logging.info('Storing annotated data...')\n",
    "adata.write_h5ad(par['output'], compression = \"gzip\")\n"
   ]
  },
  {
   "cell_type": "code",
   "execution_count": null,
   "id": "cbd7b759",
   "metadata": {},
   "outputs": [],
   "source": []
  },
  {
   "cell_type": "code",
   "execution_count": 10,
   "id": "8e1481f9",
   "metadata": {},
   "outputs": [],
   "source": [
    "from pygam import LinearGAM"
   ]
  },
  {
   "cell_type": "code",
   "execution_count": 11,
   "id": "3fb244ed",
   "metadata": {},
   "outputs": [
    {
     "name": "stderr",
     "output_type": "stream",
     "text": [
      "INFO:root:Performing dimensionality reduction on modality 1 values...\n",
      "INFO:root:Performing dimensionality reduction on modality 2 values...\n",
      "INFO:root:Running Linear regression...\n"
     ]
    }
   ],
   "source": [
    "from sklearn.decomposition import TruncatedSVD\n",
    "logging.info('Performing dimensionality reduction on modality 1 values...')    \n",
    "input_mod1 = ad.concat(\n",
    "    {\"train\": input_train_mod1, \"test\": input_test_mod1},\n",
    "    axis=0,\n",
    "    join=\"outer\",\n",
    "    label=\"group\",\n",
    "    fill_value=0,\n",
    "    index_unique=\"-\"\n",
    ")\n",
    "    \n",
    "embedder_mod1 = TruncatedSVD(n_components=50)\n",
    "mod1_pca = embedder_mod1.fit_transform(input_mod1.X)\n",
    "\n",
    "logging.info('Performing dimensionality reduction on modality 2 values...')\n",
    "embedder_mod2 = TruncatedSVD(n_components=50)\n",
    "mod2_pca = embedder_mod2.fit_transform(input_train_mod2.X)\n",
    "\n",
    "# split dimred back up\n",
    "X_train = mod1_pca[input_mod1.obs['group'] == 'train']\n",
    "X_test = mod1_pca[input_mod1.obs['group'] == 'test']\n",
    "y_train = mod2_pca\n",
    "    \n",
    "logging.info('Running Linear regression...')\n"
   ]
  },
  {
   "cell_type": "code",
   "execution_count": 12,
   "id": "8c8b2669",
   "metadata": {},
   "outputs": [],
   "source": [
    "from matplotlib import pyplot as plt\n",
    "import pandas as pd"
   ]
  },
  {
   "cell_type": "code",
   "execution_count": 13,
   "id": "c1af2978",
   "metadata": {},
   "outputs": [
    {
     "name": "stdout",
     "output_type": "stream",
     "text": [
      "openproblems_bmmc_multiome_starter_PM_gex2atac\n",
      "openproblems_bmmc_multiome_starter_PM_gex2atac\n",
      "openproblems_bmmc_multiome_starter_PM_gex2atac\n"
     ]
    }
   ],
   "source": [
    "print(input_train_mod1.uns['dataset_id'])\n",
    "print(input_train_mod2.uns['dataset_id'])\n",
    "print(input_test_mod1.uns['dataset_id'])"
   ]
  },
  {
   "cell_type": "code",
   "execution_count": 14,
   "id": "224371d7",
   "metadata": {},
   "outputs": [],
   "source": [
    "m1_tr = pd.DataFrame(X_train)\n",
    "m1_te = pd.DataFrame(X_test)\n",
    "m2_tr = pd.DataFrame(X_train)"
   ]
  },
  {
   "cell_type": "code",
   "execution_count": 15,
   "id": "42a9da2f",
   "metadata": {},
   "outputs": [
    {
     "data": {
      "text/plain": [
       "(221, 600)"
      ]
     },
     "execution_count": 15,
     "metadata": {},
     "output_type": "execute_result"
    }
   ],
   "source": [
    "input_train_mod2.shape"
   ]
  },
  {
   "cell_type": "code",
   "execution_count": 16,
   "id": "7abb511f",
   "metadata": {},
   "outputs": [],
   "source": [
    "import colorsys\n",
    "\n",
    "import numpy as np\n",
    "\n",
    "N = m1_tr.shape[0]\n",
    "HSV = [(float(x)/N, 1, 1) for x in range(1,N+1)]\n",
    "RGB = map(lambda x: colorsys.hsv_to_rgb(*x), HSV)\n"
   ]
  },
  {
   "cell_type": "code",
   "execution_count": 17,
   "id": "a890fcea",
   "metadata": {},
   "outputs": [
    {
     "data": {
      "text/plain": [
       "<map at 0x2cd3b6c8970>"
      ]
     },
     "execution_count": 17,
     "metadata": {},
     "output_type": "execute_result"
    }
   ],
   "source": [
    "RGB"
   ]
  },
  {
   "cell_type": "code",
   "execution_count": 18,
   "id": "674e1d04",
   "metadata": {},
   "outputs": [
    {
     "data": {
      "image/png": "[encoded data removed]",
      "text/plain": [
       "<Figure size 432x288 with 1 Axes>"
      ]
     },
     "metadata": {
      "needs_background": "light"
     },
     "output_type": "display_data"
    },
    {
     "data": {
      "image/png": "[encoded data removed]",
      "text/plain": [
       "<Figure size 432x288 with 1 Axes>"
      ]
     },
     "metadata": {
      "needs_background": "light"
     },
     "output_type": "display_data"
    },
    {
     "data": {
      "image/png": "[encoded data removed]",
      "text/plain": [
       "<Figure size 432x288 with 1 Axes>"
      ]
     },
     "metadata": {
      "needs_background": "light"
     },
     "output_type": "display_data"
    }
   ],
   "source": [
    "plt.scatter(m1_tr[0], m1_tr[1], c=m1_tr.index, cmap='Set2')\n",
    "plt.title(\"RNA\")\n",
    "plt.show()\n",
    "\n",
    "plt.scatter(m1_te[0], m1_te[1], c=m1_te.index, cmap='Set2')\n",
    "plt.title(\"RNA\")\n",
    "plt.show()\n",
    "\n",
    "plt.scatter(m2_tr[0], m2_tr[1], c=m2_tr.index, cmap='Set2')\n",
    "plt.title(\"ATAC\")\n",
    "plt.show()\n"
   ]
  },
  {
   "cell_type": "code",
   "execution_count": 19,
   "id": "e9a85299",
   "metadata": {},
   "outputs": [
    {
     "data": {
      "text/html": [
       "<div>\n",
       "<style scoped>\n",
       "    .dataframe tbody tr th:only-of-type {\n",
       "        vertical-align: middle;\n",
       "    }\n",
       "\n",
       "    .dataframe tbody tr th {\n",
       "        vertical-align: top;\n",
       "    }\n",
       "\n",
       "    .dataframe thead th {\n",
       "        text-align: right;\n",
       "    }\n",
       "</style>\n",
       "<table border=\"1\" class=\"dataframe\">\n",
       "  <thead>\n",
       "    <tr style=\"text-align: right;\">\n",
       "      <th></th>\n",
       "      <th>0</th>\n",
       "      <th>1</th>\n",
       "      <th>2</th>\n",
       "      <th>3</th>\n",
       "      <th>4</th>\n",
       "      <th>5</th>\n",
       "      <th>6</th>\n",
       "      <th>7</th>\n",
       "      <th>8</th>\n",
       "      <th>9</th>\n",
       "      <th>...</th>\n",
       "      <th>40</th>\n",
       "      <th>41</th>\n",
       "      <th>42</th>\n",
       "      <th>43</th>\n",
       "      <th>44</th>\n",
       "      <th>45</th>\n",
       "      <th>46</th>\n",
       "      <th>47</th>\n",
       "      <th>48</th>\n",
       "      <th>49</th>\n",
       "    </tr>\n",
       "  </thead>\n",
       "  <tbody>\n",
       "    <tr>\n",
       "      <th>0</th>\n",
       "      <td>14.378852</td>\n",
       "      <td>-0.390654</td>\n",
       "      <td>1.40366</td>\n",
       "      <td>-0.896812</td>\n",
       "      <td>2.606131</td>\n",
       "      <td>-2.100747</td>\n",
       "      <td>0.466593</td>\n",
       "      <td>0.909991</td>\n",
       "      <td>-0.352511</td>\n",
       "      <td>0.21936</td>\n",
       "      <td>...</td>\n",
       "      <td>-0.829463</td>\n",
       "      <td>-0.966436</td>\n",
       "      <td>0.132311</td>\n",
       "      <td>0.378115</td>\n",
       "      <td>-0.223237</td>\n",
       "      <td>0.472652</td>\n",
       "      <td>0.486238</td>\n",
       "      <td>-0.707674</td>\n",
       "      <td>-1.119596</td>\n",
       "      <td>-0.853451</td>\n",
       "    </tr>\n",
       "  </tbody>\n",
       "</table>\n",
       "<p>1 rows × 50 columns</p>\n",
       "</div>"
      ],
      "text/plain": [
       "          0         1        2         3         4         5         6   \\\n",
       "0  14.378852 -0.390654  1.40366 -0.896812  2.606131 -2.100747  0.466593   \n",
       "\n",
       "         7         8        9   ...        40        41        42        43  \\\n",
       "0  0.909991 -0.352511  0.21936  ... -0.829463 -0.966436  0.132311  0.378115   \n",
       "\n",
       "         44        45        46        47        48        49  \n",
       "0 -0.223237  0.472652  0.486238 -0.707674 -1.119596 -0.853451  \n",
       "\n",
       "[1 rows x 50 columns]"
      ]
     },
     "execution_count": 19,
     "metadata": {},
     "output_type": "execute_result"
    }
   ],
   "source": [
    "m1_tr.iloc[[0]]"
   ]
  },
  {
   "cell_type": "code",
   "execution_count": 20,
   "id": "88dc710e",
   "metadata": {},
   "outputs": [
    {
     "data": {
      "image/png": "[encoded data removed]",
      "text/plain": [
       "<Figure size 432x288 with 1 Axes>"
      ]
     },
     "metadata": {
      "needs_background": "light"
     },
     "output_type": "display_data"
    },
    {
     "data": {
      "image/png": "[encoded data removed]",
      "text/plain": [
       "<Figure size 432x288 with 1 Axes>"
      ]
     },
     "metadata": {
      "needs_background": "light"
     },
     "output_type": "display_data"
    },
    {
     "data": {
      "image/png": "[encoded data removed]",
      "text/plain": [
       "<Figure size 432x288 with 1 Axes>"
      ]
     },
     "metadata": {
      "needs_background": "light"
     },
     "output_type": "display_data"
    },
    {
     "data": {
      "image/png": "[encoded data removed]",
      "text/plain": [
       "<Figure size 432x288 with 1 Axes>"
      ]
     },
     "metadata": {
      "needs_background": "light"
     },
     "output_type": "display_data"
    }
   ],
   "source": [
    "for i in [0,5,10,150]:\n",
    "    plt.scatter(m1_tr.iloc[[i]], m1_te.iloc[[i]])\n",
    "    plt.title(\"GEX vs ATAC components in one cell\")\n",
    "\n",
    "    axes = plt.gca()\n",
    "    axes.set_xlim([-4,5])\n",
    "    axes.set_ylim([-4,5])\n",
    "\n",
    "    plt.show()\n"
   ]
  },
  {
   "cell_type": "code",
   "execution_count": 21,
   "id": "95484645",
   "metadata": {},
   "outputs": [
    {
     "data": {
      "text/plain": [
       "array([[1., 1., 0., ..., 0., 0., 0.],\n",
       "       [0., 0., 0., ..., 0., 0., 0.],\n",
       "       [0., 1., 0., ..., 0., 0., 0.],\n",
       "       ...,\n",
       "       [0., 0., 0., ..., 0., 0., 0.],\n",
       "       [0., 1., 0., ..., 0., 0., 0.],\n",
       "       [0., 0., 0., ..., 0., 0., 0.]], dtype=float32)"
      ]
     },
     "execution_count": 21,
     "metadata": {},
     "output_type": "execute_result"
    }
   ],
   "source": [
    "input_train_mod2.X.A"
   ]
  },
  {
   "cell_type": "code",
   "execution_count": 22,
   "id": "87037ae7",
   "metadata": {},
   "outputs": [
    {
     "data": {
      "image/png": "[encoded data removed]",
      "text/plain": [
       "<Figure size 432x288 with 1 Axes>"
      ]
     },
     "metadata": {
      "needs_background": "light"
     },
     "output_type": "display_data"
    },
    {
     "data": {
      "image/png": "[encoded data removed]",
      "text/plain": [
       "<Figure size 432x288 with 1 Axes>"
      ]
     },
     "metadata": {
      "needs_background": "light"
     },
     "output_type": "display_data"
    },
    {
     "data": {
      "image/png": "[encoded data removed]",
      "text/plain": [
       "<Figure size 432x288 with 1 Axes>"
      ]
     },
     "metadata": {
      "needs_background": "light"
     },
     "output_type": "display_data"
    },
    {
     "data": {
      "image/png": "[encoded data removed]",
      "text/plain": [
       "<Figure size 432x288 with 1 Axes>"
      ]
     },
     "metadata": {
      "needs_background": "light"
     },
     "output_type": "display_data"
    }
   ],
   "source": [
    "for i in [0,5,10,150]:\n",
    "    plt.scatter(input_train_mod1.X[[i]].A, input_train_mod2.X[[i]].A)\n",
    "    plt.title(\"GEX vs ATAC in one cell\")\n",
    "\n",
    "    axes = plt.gca()\n",
    "    axes.set_xlim([-4,5])\n",
    "    axes.set_ylim([-1,1.25])\n",
    "\n",
    "    plt.show()\n"
   ]
  },
  {
   "cell_type": "code",
   "execution_count": 23,
   "id": "5b01412a",
   "metadata": {},
   "outputs": [
    {
     "data": {
      "text/plain": [
       "(221, 50)"
      ]
     },
     "execution_count": 23,
     "metadata": {},
     "output_type": "execute_result"
    }
   ],
   "source": [
    "y_train.shape"
   ]
  },
  {
   "cell_type": "code",
   "execution_count": 24,
   "id": "192f4a46",
   "metadata": {},
   "outputs": [
    {
     "data": {
      "text/plain": [
       "(221, 600)"
      ]
     },
     "execution_count": 24,
     "metadata": {},
     "output_type": "execute_result"
    }
   ],
   "source": [
    "input_train_mod2.X.shape"
   ]
  },
  {
   "cell_type": "code",
   "execution_count": 25,
   "id": "de543f0d",
   "metadata": {},
   "outputs": [
    {
     "data": {
      "text/plain": [
       "AnnData object with n_obs × n_vars = 221 × 600\n",
       "    obs: 'batch'\n",
       "    var: 'feature_types'\n",
       "    uns: 'dataset_id'\n",
       "    layers: 'counts'"
      ]
     },
     "execution_count": 25,
     "metadata": {},
     "output_type": "execute_result"
    }
   ],
   "source": [
    "input_train_mod2"
   ]
  },
  {
   "cell_type": "code",
   "execution_count": 26,
   "id": "bca5e07d",
   "metadata": {},
   "outputs": [],
   "source": [
    "from statistics import sqrt\n",
    "from math import ceil, floor\n",
    "N = X_train.shape[0]\n",
    "k = ceil(sqrt(N))\n",
    "kf = floor(sqrt(N))\n",
    "kr = round(sqrt(N))"
   ]
  },
  {
   "cell_type": "code",
   "execution_count": 27,
   "id": "6cecd071",
   "metadata": {},
   "outputs": [
    {
     "data": {
      "text/plain": [
       "KNeighborsRegressor(n_neighbors=15)"
      ]
     },
     "execution_count": 27,
     "metadata": {},
     "output_type": "execute_result"
    }
   ],
   "source": [
    "from sklearn.neighbors import KNeighborsRegressor\n",
    "neigh = KNeighborsRegressor(n_neighbors=k)\n",
    "neigh.fit(X_train, y_train)"
   ]
  },
  {
   "cell_type": "code",
   "execution_count": 28,
   "id": "f0b82308",
   "metadata": {},
   "outputs": [],
   "source": [
    "y_pred = neigh.predict(X_test)"
   ]
  },
  {
   "cell_type": "code",
   "execution_count": null,
   "id": "3ebeea80",
   "metadata": {},
   "outputs": [],
   "source": []
  },
  {
   "cell_type": "code",
   "execution_count": 29,
   "id": "cae124ff",
   "metadata": {},
   "outputs": [],
   "source": [
    "\n",
    "# Project the predictions back to the modality 2 feature space\n",
    "y_pred = y_pred @ embedder_mod2.components_\n",
    "\n",
    "# Store as sparse matrix to be efficient. Note that this might require\n",
    "# different classifiers/embedders before-hand. Not every class is able\n",
    "# to support such data structures.\n",
    "y_pred = csc_matrix(y_pred)\n",
    "\n",
    "adata2 = ad.AnnData(\n",
    "    X=y_pred,\n",
    "    obs=input_test_mod1.obs,\n",
    "    var=input_train_mod2.var,\n",
    "    uns={\n",
    "        'dataset_id': input_train_mod1.uns['dataset_id'],\n",
    "        'method_id': 'starter_kit'\n",
    "    },\n",
    ")\n"
   ]
  },
  {
   "cell_type": "code",
   "execution_count": null,
   "id": "51e8c873",
   "metadata": {},
   "outputs": [],
   "source": []
  },
  {
   "cell_type": "code",
   "execution_count": 30,
   "id": "25f2f87e",
   "metadata": {},
   "outputs": [],
   "source": [
    "true_test_mod2 = ad.read_h5ad(test_mod2_file)"
   ]
  },
  {
   "cell_type": "code",
   "execution_count": 31,
   "id": "25904b58",
   "metadata": {},
   "outputs": [],
   "source": [
    "\n",
    "from sklearn.metrics import mean_squared_error\n",
    "def calculate_rmse(true_test_mod2, pred_test_mod2):\n",
    "    return  mean_squared_error(true_test_mod2.X.toarray(), pred_test_mod2.X.toarray(), squared=False)"
   ]
  },
  {
   "cell_type": "code",
   "execution_count": 32,
   "id": "24898219",
   "metadata": {},
   "outputs": [
    {
     "data": {
      "text/plain": [
       "0.29968134"
      ]
     },
     "execution_count": 32,
     "metadata": {},
     "output_type": "execute_result"
    }
   ],
   "source": [
    "calculate_rmse(true_test_mod2, adata)"
   ]
  },
  {
   "cell_type": "code",
   "execution_count": 33,
   "id": "18bcddda",
   "metadata": {},
   "outputs": [
    {
     "data": {
      "text/plain": [
       "0.29972288"
      ]
     },
     "execution_count": 33,
     "metadata": {},
     "output_type": "execute_result"
    }
   ],
   "source": [
    "calculate_rmse(true_test_mod2, adata2)"
   ]
  },
  {
   "cell_type": "code",
   "execution_count": null,
   "id": "3b328d5c",
   "metadata": {},
   "outputs": [],
   "source": []
  },
  {
   "cell_type": "code",
   "execution_count": null,
   "id": "1818928d",
   "metadata": {},
   "outputs": [],
   "source": []
  },
  {
   "cell_type": "code",
   "execution_count": 34,
   "id": "f03d05ee",
   "metadata": {},
   "outputs": [
    {
     "name": "stderr",
     "output_type": "stream",
     "text": [
      "INFO:root:Performing dimensionality reduction on modality 1 values...\n",
      "INFO:root:Performing dimensionality reduction on modality 2 values...\n",
      "INFO:root:Running K nearest neigbors...\n",
      "INFO:root:Performing dimensionality reduction on modality 1 values...\n",
      "INFO:root:Performing dimensionality reduction on modality 2 values...\n",
      "INFO:root:Running K nearest neigbors...\n",
      "INFO:root:Performing dimensionality reduction on modality 1 values...\n",
      "INFO:root:Performing dimensionality reduction on modality 2 values...\n",
      "INFO:root:Running K nearest neigbors...\n",
      "INFO:root:Performing dimensionality reduction on modality 1 values...\n",
      "INFO:root:Performing dimensionality reduction on modality 2 values...\n",
      "INFO:root:Running K nearest neigbors...\n",
      "INFO:root:Performing dimensionality reduction on modality 1 values...\n",
      "INFO:root:Performing dimensionality reduction on modality 2 values...\n",
      "INFO:root:Running K nearest neigbors...\n",
      "INFO:root:Performing dimensionality reduction on modality 1 values...\n",
      "INFO:root:Performing dimensionality reduction on modality 2 values...\n",
      "INFO:root:Running K nearest neigbors...\n",
      "INFO:root:Performing dimensionality reduction on modality 1 values...\n",
      "INFO:root:Performing dimensionality reduction on modality 2 values...\n",
      "INFO:root:Running K nearest neigbors...\n",
      "INFO:root:Performing dimensionality reduction on modality 1 values...\n",
      "INFO:root:Performing dimensionality reduction on modality 2 values...\n",
      "INFO:root:Running K nearest neigbors...\n",
      "INFO:root:Performing dimensionality reduction on modality 1 values...\n",
      "INFO:root:Performing dimensionality reduction on modality 2 values...\n",
      "INFO:root:Running K nearest neigbors...\n",
      "INFO:root:Performing dimensionality reduction on modality 1 values...\n",
      "INFO:root:Performing dimensionality reduction on modality 2 values...\n",
      "INFO:root:Running K nearest neigbors...\n",
      "INFO:root:Performing dimensionality reduction on modality 1 values...\n",
      "INFO:root:Performing dimensionality reduction on modality 2 values...\n",
      "INFO:root:Running K nearest neigbors...\n",
      "INFO:root:Performing dimensionality reduction on modality 1 values...\n",
      "INFO:root:Performing dimensionality reduction on modality 2 values...\n",
      "INFO:root:Running K nearest neigbors...\n",
      "INFO:root:Performing dimensionality reduction on modality 1 values...\n",
      "INFO:root:Performing dimensionality reduction on modality 2 values...\n",
      "INFO:root:Running K nearest neigbors...\n",
      "INFO:root:Performing dimensionality reduction on modality 1 values...\n",
      "INFO:root:Performing dimensionality reduction on modality 2 values...\n",
      "INFO:root:Running K nearest neigbors...\n",
      "INFO:root:Performing dimensionality reduction on modality 1 values...\n",
      "INFO:root:Performing dimensionality reduction on modality 2 values...\n",
      "INFO:root:Running K nearest neigbors...\n",
      "INFO:root:Performing dimensionality reduction on modality 1 values...\n",
      "INFO:root:Performing dimensionality reduction on modality 2 values...\n",
      "INFO:root:Running K nearest neigbors...\n",
      "INFO:root:Performing dimensionality reduction on modality 1 values...\n",
      "INFO:root:Performing dimensionality reduction on modality 2 values...\n",
      "INFO:root:Running K nearest neigbors...\n",
      "INFO:root:Performing dimensionality reduction on modality 1 values...\n",
      "INFO:root:Performing dimensionality reduction on modality 2 values...\n",
      "INFO:root:Running K nearest neigbors...\n",
      "INFO:root:Performing dimensionality reduction on modality 1 values...\n",
      "INFO:root:Performing dimensionality reduction on modality 2 values...\n",
      "INFO:root:Running K nearest neigbors...\n",
      "INFO:root:Performing dimensionality reduction on modality 1 values...\n",
      "INFO:root:Performing dimensionality reduction on modality 2 values...\n",
      "INFO:root:Running K nearest neigbors...\n"
     ]
    },
    {
     "data": {
      "text/plain": [
       "{1: 0.37809813,\n",
       " 11: 0.30257353,\n",
       " 21: 0.29727805,\n",
       " 31: 0.295071,\n",
       " 41: 0.29401088,\n",
       " 51: 0.29332057,\n",
       " 61: 0.2926963,\n",
       " 71: 0.29228976,\n",
       " 81: 0.29205868,\n",
       " 91: 0.2918943,\n",
       " 101: 0.29175115,\n",
       " 111: 0.29157683,\n",
       " 121: 0.2914748,\n",
       " 131: 0.291431,\n",
       " 141: 0.29134932,\n",
       " 151: 0.29129314,\n",
       " 161: 0.29126135,\n",
       " 171: 0.2912848,\n",
       " 181: 0.29132807,\n",
       " 191: 0.29134592}"
      ]
     },
     "execution_count": 34,
     "metadata": {},
     "output_type": "execute_result"
    }
   ],
   "source": [
    "#forward\n",
    "tests_f={}\n",
    "for i in range (1, 200,10):\n",
    "    pred_data = method(input_train_mod1, input_train_mod2, input_test_mod1, k=i, d=50)\n",
    "    tests_f[i]=calculate_rmse(true_test_mod2, pred_data)\n",
    "tests_f"
   ]
  },
  {
   "cell_type": "markdown",
   "id": "f07372b0",
   "metadata": {},
   "source": [
    "#go backwards\n",
    "tests={}\n",
    "for i in range (2, 200, 10):\n",
    "    pred_data = method(input_train_mod2, input_train_mod1, true_test_mod2, k=i)\n",
    "    tests[i]=calculate_rmse(input_test_mod1, pred_data)\n",
    "tests"
   ]
  },
  {
   "cell_type": "code",
   "execution_count": 35,
   "id": "3cf46255",
   "metadata": {},
   "outputs": [
    {
     "data": {
      "text/plain": [
       "<matplotlib.collections.PathCollection at 0x2cd41ba3f40>"
      ]
     },
     "execution_count": 35,
     "metadata": {},
     "output_type": "execute_result"
    },
    {
     "data": {
      "image/png": "[encoded data removed]",
      "text/plain": [
       "<Figure size 432x288 with 1 Axes>"
      ]
     },
     "metadata": {
      "needs_background": "light"
     },
     "output_type": "display_data"
    }
   ],
   "source": [
    "plt.scatter(tests_f.keys(), tests_f.values())"
   ]
  },
  {
   "cell_type": "code",
   "execution_count": 36,
   "id": "38ff002d",
   "metadata": {},
   "outputs": [
    {
     "data": {
      "text/plain": [
       "dict_keys([1, 11, 21, 31, 41, 51, 61, 71, 81, 91, 101, 111, 121, 131, 141, 151, 161, 171, 181, 191])"
      ]
     },
     "execution_count": 36,
     "metadata": {},
     "output_type": "execute_result"
    }
   ],
   "source": [
    "tests_f.keys()"
   ]
  },
  {
   "cell_type": "code",
   "execution_count": null,
   "id": "bfa054be",
   "metadata": {},
   "outputs": [],
   "source": []
  },
  {
   "cell_type": "code",
   "execution_count": null,
   "id": "172a8d36",
   "metadata": {},
   "outputs": [],
   "source": []
  }
 ],
 "metadata": {
  "kernelspec": {
   "display_name": "Python 3",
   "language": "python",
   "name": "python3"
  },
  "language_info": {
   "codemirror_mode": {
    "name": "ipython",
    "version": 3
   },
   "file_extension": ".py",
   "mimetype": "text/x-python",
   "name": "python",
   "nbconvert_exporter": "python",
   "pygments_lexer": "ipython3",
   "version": "3.8.8"
  }
 },
 "nbformat": 4,
 "nbformat_minor": 5
}
