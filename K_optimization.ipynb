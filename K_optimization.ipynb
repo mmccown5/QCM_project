{
 "cells": [
  {
   "cell_type": "markdown",
   "id": "f900b975",
   "metadata": {},
   "source": [
    "## K optimization\n",
    "This script generates the figure to show k optimization for the presentation. Optimal k is dependant on N and the dataset."
   ]
  },
  {
   "cell_type": "code",
   "execution_count": 1,
   "id": "9604b915",
   "metadata": {},
   "outputs": [],
   "source": [
    "# Dependencies:\n",
    "# pip: scikit-learn, anndata, scanpy\n",
    "#\n",
    "# Modified from the Python starter kit for the NeurIPS 2021 Single-Cell Competition.\n",
    "#\n",
    "# More documentation:\n",
    "#\n",
    "# https://viash.io/docs/creating_components/python/"
   ]
  },
  {
   "cell_type": "code",
   "execution_count": 2,
   "id": "0abb5b19",
   "metadata": {},
   "outputs": [],
   "source": [
    "import logging\n",
    "import anndata as ad\n",
    "import sys\n",
    "\n",
    "from scipy.sparse import csc_matrix\n",
    "\n",
    "from sklearn.decomposition import TruncatedSVD\n",
    "from sklearn.linear_model import LinearRegression\n",
    "import numpy as np\n",
    "\n",
    "logging.basicConfig(level=logging.INFO)"
   ]
  },
  {
   "cell_type": "markdown",
   "id": "da8847ac",
   "metadata": {},
   "source": [
    "Assigns starter kit example data files"
   ]
  },
  {
   "cell_type": "code",
   "execution_count": 3,
   "id": "959a086e",
   "metadata": {},
   "outputs": [],
   "source": [
    "## VIASH START\n",
    "# Anything within this block will be removed by `viash` and will be\n",
    "# replaced with the parameters as specified in your config.vsh.yaml.\n",
    "meta = { 'resources_dir': '.' }\n",
    "\n",
    "par = { \n",
    "    'input_train_mod1': 'sample_data/openproblems_bmmc_cite_starter/openproblems_bmmc_cite_starter.train_mod1.h5ad',\n",
    "    'input_train_mod2': 'sample_data/openproblems_bmmc_cite_starter/openproblems_bmmc_cite_starter.train_mod2.h5ad',\n",
    "    'input_test_mod1': 'sample_data/openproblems_bmmc_cite_starter/openproblems_bmmc_cite_starter.test_mod1.h5ad',\n",
    "    'distance_method': 'minkowski',\n",
    "    'output': 'output.h5ad',\n",
    "    'n_pcs': 50,\n",
    "}\n",
    "## VIASH END\n",
    "test_mod2_file = 'sample_data/openproblems_bmmc_cite_starter/openproblems_bmmc_cite_starter.test_mod2.h5ad '\n"
   ]
  },
  {
   "cell_type": "code",
   "execution_count": 4,
   "id": "e465d538",
   "metadata": {},
   "outputs": [
    {
     "name": "stderr",
     "output_type": "stream",
     "text": [
      "INFO:root:Reading `h5ad` files...\n"
     ]
    }
   ],
   "source": [
    "logging.info('Reading `h5ad` files...')\n",
    "input_train_mod1 = ad.read_h5ad(par['input_train_mod1'])\n",
    "input_train_mod2 = ad.read_h5ad(par['input_train_mod2'])\n",
    "input_test_mod1 = ad.read_h5ad(par['input_test_mod1'])\n",
    "\n",
    "true_test_mod2 = ad.read_h5ad(test_mod2_file)"
   ]
  },
  {
   "cell_type": "code",
   "execution_count": 5,
   "id": "3e10a16d",
   "metadata": {},
   "outputs": [],
   "source": [
    "\n",
    "# TODO: implement own method\n",
    "from beans import method\n"
   ]
  },
  {
   "cell_type": "markdown",
   "id": "abf7b8eb",
   "metadata": {},
   "source": [
    "This function calculates rmse, root mean squared error, which is the metric used in the competition. Lower is better."
   ]
  },
  {
   "cell_type": "code",
   "execution_count": 6,
   "id": "1818928d",
   "metadata": {},
   "outputs": [],
   "source": [
    "from sklearn.metrics import mean_squared_error\n",
    "def calculate_rmse(true_test_mod2, pred_test_mod2):\n",
    "    return  mean_squared_error(true_test_mod2.X.toarray(), pred_test_mod2.X.toarray(), squared=False)"
   ]
  },
  {
   "cell_type": "markdown",
   "id": "c523e23f",
   "metadata": {},
   "source": [
    "For a variety of values for k, make predictions and calculate the rmse."
   ]
  },
  {
   "cell_type": "code",
   "execution_count": 7,
   "id": "f03d05ee",
   "metadata": {},
   "outputs": [
    {
     "name": "stderr",
     "output_type": "stream",
     "text": [
      "INFO:root:Performing dimensionality reduction on modality 1 values...\n",
      "INFO:root:Performing dimensionality reduction on modality 2 values...\n",
      "INFO:root:Running K nearest neigbors...\n",
      "INFO:root:Performing dimensionality reduction on modality 1 values...\n",
      "INFO:root:Performing dimensionality reduction on modality 2 values...\n",
      "INFO:root:Running K nearest neigbors...\n",
      "INFO:root:Performing dimensionality reduction on modality 1 values...\n",
      "INFO:root:Performing dimensionality reduction on modality 2 values...\n",
      "INFO:root:Running K nearest neigbors...\n",
      "INFO:root:Performing dimensionality reduction on modality 1 values...\n",
      "INFO:root:Performing dimensionality reduction on modality 2 values...\n",
      "INFO:root:Running K nearest neigbors...\n",
      "INFO:root:Performing dimensionality reduction on modality 1 values...\n",
      "INFO:root:Performing dimensionality reduction on modality 2 values...\n",
      "INFO:root:Running K nearest neigbors...\n",
      "INFO:root:Performing dimensionality reduction on modality 1 values...\n",
      "INFO:root:Performing dimensionality reduction on modality 2 values...\n",
      "INFO:root:Running K nearest neigbors...\n",
      "INFO:root:Performing dimensionality reduction on modality 1 values...\n",
      "INFO:root:Performing dimensionality reduction on modality 2 values...\n",
      "INFO:root:Running K nearest neigbors...\n",
      "INFO:root:Performing dimensionality reduction on modality 1 values...\n",
      "INFO:root:Performing dimensionality reduction on modality 2 values...\n",
      "INFO:root:Running K nearest neigbors...\n",
      "INFO:root:Performing dimensionality reduction on modality 1 values...\n",
      "INFO:root:Performing dimensionality reduction on modality 2 values...\n",
      "INFO:root:Running K nearest neigbors...\n",
      "INFO:root:Performing dimensionality reduction on modality 1 values...\n",
      "INFO:root:Performing dimensionality reduction on modality 2 values...\n",
      "INFO:root:Running K nearest neigbors...\n",
      "INFO:root:Performing dimensionality reduction on modality 1 values...\n",
      "INFO:root:Performing dimensionality reduction on modality 2 values...\n",
      "INFO:root:Running K nearest neigbors...\n",
      "INFO:root:Performing dimensionality reduction on modality 1 values...\n",
      "INFO:root:Performing dimensionality reduction on modality 2 values...\n",
      "INFO:root:Running K nearest neigbors...\n",
      "INFO:root:Performing dimensionality reduction on modality 1 values...\n",
      "INFO:root:Performing dimensionality reduction on modality 2 values...\n",
      "INFO:root:Running K nearest neigbors...\n",
      "INFO:root:Performing dimensionality reduction on modality 1 values...\n",
      "INFO:root:Performing dimensionality reduction on modality 2 values...\n",
      "INFO:root:Running K nearest neigbors...\n",
      "INFO:root:Performing dimensionality reduction on modality 1 values...\n",
      "INFO:root:Performing dimensionality reduction on modality 2 values...\n",
      "INFO:root:Running K nearest neigbors...\n",
      "INFO:root:Performing dimensionality reduction on modality 1 values...\n",
      "INFO:root:Performing dimensionality reduction on modality 2 values...\n",
      "INFO:root:Running K nearest neigbors...\n",
      "INFO:root:Performing dimensionality reduction on modality 1 values...\n",
      "INFO:root:Performing dimensionality reduction on modality 2 values...\n",
      "INFO:root:Running K nearest neigbors...\n",
      "INFO:root:Performing dimensionality reduction on modality 1 values...\n",
      "INFO:root:Performing dimensionality reduction on modality 2 values...\n",
      "INFO:root:Running K nearest neigbors...\n",
      "INFO:root:Performing dimensionality reduction on modality 1 values...\n",
      "INFO:root:Performing dimensionality reduction on modality 2 values...\n",
      "INFO:root:Running K nearest neigbors...\n",
      "INFO:root:Performing dimensionality reduction on modality 1 values...\n",
      "INFO:root:Performing dimensionality reduction on modality 2 values...\n",
      "INFO:root:Running K nearest neigbors...\n",
      "INFO:root:Performing dimensionality reduction on modality 1 values...\n",
      "INFO:root:Performing dimensionality reduction on modality 2 values...\n",
      "INFO:root:Running K nearest neigbors...\n",
      "INFO:root:Performing dimensionality reduction on modality 1 values...\n",
      "INFO:root:Performing dimensionality reduction on modality 2 values...\n",
      "INFO:root:Running K nearest neigbors...\n",
      "INFO:root:Performing dimensionality reduction on modality 1 values...\n",
      "INFO:root:Performing dimensionality reduction on modality 2 values...\n",
      "INFO:root:Running K nearest neigbors...\n",
      "INFO:root:Performing dimensionality reduction on modality 1 values...\n",
      "INFO:root:Performing dimensionality reduction on modality 2 values...\n",
      "INFO:root:Running K nearest neigbors...\n",
      "INFO:root:Performing dimensionality reduction on modality 1 values...\n",
      "INFO:root:Performing dimensionality reduction on modality 2 values...\n",
      "INFO:root:Running K nearest neigbors...\n",
      "INFO:root:Performing dimensionality reduction on modality 1 values...\n",
      "INFO:root:Performing dimensionality reduction on modality 2 values...\n",
      "INFO:root:Running K nearest neigbors...\n",
      "INFO:root:Performing dimensionality reduction on modality 1 values...\n",
      "INFO:root:Performing dimensionality reduction on modality 2 values...\n",
      "INFO:root:Running K nearest neigbors...\n",
      "INFO:root:Performing dimensionality reduction on modality 1 values...\n",
      "INFO:root:Performing dimensionality reduction on modality 2 values...\n",
      "INFO:root:Running K nearest neigbors...\n",
      "INFO:root:Performing dimensionality reduction on modality 1 values...\n",
      "INFO:root:Performing dimensionality reduction on modality 2 values...\n",
      "INFO:root:Running K nearest neigbors...\n",
      "INFO:root:Performing dimensionality reduction on modality 1 values...\n",
      "INFO:root:Performing dimensionality reduction on modality 2 values...\n",
      "INFO:root:Running K nearest neigbors...\n",
      "INFO:root:Performing dimensionality reduction on modality 1 values...\n",
      "INFO:root:Performing dimensionality reduction on modality 2 values...\n",
      "INFO:root:Running K nearest neigbors...\n",
      "INFO:root:Performing dimensionality reduction on modality 1 values...\n",
      "INFO:root:Performing dimensionality reduction on modality 2 values...\n",
      "INFO:root:Running K nearest neigbors...\n",
      "INFO:root:Performing dimensionality reduction on modality 1 values...\n",
      "INFO:root:Performing dimensionality reduction on modality 2 values...\n",
      "INFO:root:Running K nearest neigbors...\n",
      "INFO:root:Performing dimensionality reduction on modality 1 values...\n",
      "INFO:root:Performing dimensionality reduction on modality 2 values...\n",
      "INFO:root:Running K nearest neigbors...\n",
      "INFO:root:Performing dimensionality reduction on modality 1 values...\n",
      "INFO:root:Performing dimensionality reduction on modality 2 values...\n",
      "INFO:root:Running K nearest neigbors...\n",
      "INFO:root:Performing dimensionality reduction on modality 1 values...\n",
      "INFO:root:Performing dimensionality reduction on modality 2 values...\n",
      "INFO:root:Running K nearest neigbors...\n",
      "INFO:root:Performing dimensionality reduction on modality 1 values...\n",
      "INFO:root:Performing dimensionality reduction on modality 2 values...\n",
      "INFO:root:Running K nearest neigbors...\n",
      "INFO:root:Performing dimensionality reduction on modality 1 values...\n",
      "INFO:root:Performing dimensionality reduction on modality 2 values...\n",
      "INFO:root:Running K nearest neigbors...\n",
      "INFO:root:Performing dimensionality reduction on modality 1 values...\n",
      "INFO:root:Performing dimensionality reduction on modality 2 values...\n",
      "INFO:root:Running K nearest neigbors...\n",
      "INFO:root:Performing dimensionality reduction on modality 1 values...\n",
      "INFO:root:Performing dimensionality reduction on modality 2 values...\n",
      "INFO:root:Running K nearest neigbors...\n",
      "INFO:root:Performing dimensionality reduction on modality 1 values...\n",
      "INFO:root:Performing dimensionality reduction on modality 2 values...\n",
      "INFO:root:Running K nearest neigbors...\n",
      "INFO:root:Performing dimensionality reduction on modality 1 values...\n",
      "INFO:root:Performing dimensionality reduction on modality 2 values...\n",
      "INFO:root:Running K nearest neigbors...\n",
      "INFO:root:Performing dimensionality reduction on modality 1 values...\n",
      "INFO:root:Performing dimensionality reduction on modality 2 values...\n",
      "INFO:root:Running K nearest neigbors...\n",
      "INFO:root:Performing dimensionality reduction on modality 1 values...\n",
      "INFO:root:Performing dimensionality reduction on modality 2 values...\n",
      "INFO:root:Running K nearest neigbors...\n",
      "INFO:root:Performing dimensionality reduction on modality 1 values...\n",
      "INFO:root:Performing dimensionality reduction on modality 2 values...\n",
      "INFO:root:Running K nearest neigbors...\n",
      "INFO:root:Performing dimensionality reduction on modality 1 values...\n",
      "INFO:root:Performing dimensionality reduction on modality 2 values...\n"
     ]
    },
    {
     "name": "stderr",
     "output_type": "stream",
     "text": [
      "INFO:root:Running K nearest neigbors...\n",
      "INFO:root:Performing dimensionality reduction on modality 1 values...\n",
      "INFO:root:Performing dimensionality reduction on modality 2 values...\n",
      "INFO:root:Running K nearest neigbors...\n",
      "INFO:root:Performing dimensionality reduction on modality 1 values...\n",
      "INFO:root:Performing dimensionality reduction on modality 2 values...\n",
      "INFO:root:Running K nearest neigbors...\n",
      "INFO:root:Performing dimensionality reduction on modality 1 values...\n",
      "INFO:root:Performing dimensionality reduction on modality 2 values...\n",
      "INFO:root:Running K nearest neigbors...\n"
     ]
    }
   ],
   "source": [
    "#forward\n",
    "tests_f={}\n",
    "for i in range (1, 50):\n",
    "    pred_data = method(input_train_mod1, input_train_mod2, input_test_mod1, k=i, d=50)\n",
    "    tests_f[i]=calculate_rmse(true_test_mod2, pred_data)"
   ]
  },
  {
   "cell_type": "markdown",
   "id": "f07372b0",
   "metadata": {},
   "source": [
    "#go backwards\n",
    "tests={}\n",
    "for i in range (2, 200, 10):\n",
    "    pred_data = method(input_train_mod2, input_train_mod1, true_test_mod2, k=i)\n",
    "    tests[i]=calculate_rmse(input_test_mod1, pred_data)\n",
    "tests"
   ]
  },
  {
   "cell_type": "markdown",
   "id": "cf8ea221",
   "metadata": {},
   "source": [
    "Now plot them to see that it goes up if you're too low or too high."
   ]
  },
  {
   "cell_type": "code",
   "execution_count": 8,
   "id": "bfa054be",
   "metadata": {},
   "outputs": [],
   "source": [
    "from matplotlib import pyplot as plt"
   ]
  },
  {
   "cell_type": "code",
   "execution_count": 9,
   "id": "3cf46255",
   "metadata": {},
   "outputs": [
    {
     "data": {
      "image/png": "[encoded data removed]",
      "text/plain": [
       "<Figure size 432x288 with 1 Axes>"
      ]
     },
     "metadata": {
      "needs_background": "light"
     },
     "output_type": "display_data"
    }
   ],
   "source": [
    "fig, ax = plt.subplots()\n",
    "\n",
    "ax.tick_params(left = False, labelleft = False) \n",
    "\n",
    "plt.scatter(tests_f.keys(), tests_f.values())\n",
    "plt.ylabel(\"RMSE\")\n",
    "plt.xlabel(\"k\")\n",
    "plt.title(\"Starter data\")\n",
    "plt.savefig(\"K_opt.png\",dpi=300)\n",
    "plt.show()"
   ]
  },
  {
   "cell_type": "markdown",
   "id": "88710e6e",
   "metadata": {},
   "source": [
    "My heuristic was sqrt of N, which seemed better when I tried it earlier? But is not so great now and IDK :/"
   ]
  },
  {
   "cell_type": "code",
   "execution_count": 10,
   "id": "172a8d36",
   "metadata": {},
   "outputs": [
    {
     "data": {
      "text/plain": [
       "18"
      ]
     },
     "execution_count": 10,
     "metadata": {},
     "output_type": "execute_result"
    }
   ],
   "source": [
    "from statistics import sqrt\n",
    "from math import ceil\n",
    "N = input_train_mod1.shape[0]\n",
    "k = ceil(sqrt(N))\n",
    "k"
   ]
  }
 ],
 "metadata": {
  "kernelspec": {
   "display_name": "Python 3",
   "language": "python",
   "name": "python3"
  },
  "language_info": {
   "codemirror_mode": {
    "name": "ipython",
    "version": 3
   },
   "file_extension": ".py",
   "mimetype": "text/x-python",
   "name": "python",
   "nbconvert_exporter": "python",
   "pygments_lexer": "ipython3",
   "version": "3.8.8"
  }
 },
 "nbformat": 4,
 "nbformat_minor": 5
}
